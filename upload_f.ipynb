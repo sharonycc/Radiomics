{
 "cells": [
  {
   "cell_type": "code",
   "execution_count": null,
   "metadata": {},
   "outputs": [],
   "source": [
    "import pandas as pd\n",
    "import numpy as np\n",
    "from sklearn.utils import shuffle\n",
    "from sklearn.preprocessing import StandardScaler\n",
    "from sklearn.linear_model import LassoCV\n",
    "from sklearn.model_selection import train_test_split,cross_val_score,KFold,RepeatedKFold,GridSearchCV\n",
    "from scipy.stats import pearsonr,ttest_ind,levene\n",
    "from sklearn.ensemble import RandomForestClassifier\n",
    "from sklearn import svm\n",
    "from sklearn.metrics import roc_curve, roc_auc_score, auc\n",
    "from statsmodels.stats.outliers_influence import variance_inflation_factor\n",
    "\n",
    "import seaborn as sns\n",
    "import matplotlib.pyplot as plt\n",
    "%matplotlib inline"
   ]
  },
  {
   "cell_type": "markdown",
   "metadata": {},
   "source": [
    "### 数据导入+预处理"
   ]
  },
  {
   "cell_type": "code",
   "execution_count": null,
   "metadata": {},
   "outputs": [],
   "source": [
    "#导入数据\n",
    "csv_x0 = './0x.csv'#GTVnx敏感组的特征表格\n",
    "csv_x1 = './1x.csv'#GTVnx抵抗组的特征表格\n",
    "csv_d0 = './0d.csv'#GTVnd敏感组的特征表格\n",
    "csv_d1 = './1d.csv'#GTVnd抵抗组的特征表格\n",
    "data_x0 = pd.read_csv(csv_x0)\n",
    "data_x1 = pd.read_csv(csv_x1)\n",
    "data_d0 = pd.read_csv(csv_d0)\n",
    "data_d1 = pd.read_csv(csv_d1)\n",
    "data_x = pd.concat([data_x0,data_x1])#GTVnx汇总\n",
    "data_d = pd.concat([data_d0,data_d1])#GTVnd汇总\n",
    "print(data_x0.shape,data_x1.shape,data_d0.shape,data_d1.shape)"
   ]
  },
  {
   "cell_type": "code",
   "execution_count": null,
   "metadata": {},
   "outputs": [],
   "source": [
    "#数据集处理\n",
    "data_x = shuffle(data_x)\n",
    "data_x.index = range(len(data_x))\n",
    "X_x = data_x[data_x.columns[1:]]\n",
    "# 标准化+整理GTVnx\n",
    "scaler = StandardScaler()\n",
    "scaler.fit(X_x)\n",
    "X_x = scaler.transform(X_x)\n",
    "X_x = pd.DataFrame(X_x)\n",
    "y_x = data_x['label']\n",
    "data_d = shuffle(data_d)\n",
    "data_d.index = range(len(data_d))\n",
    "X_d = data_d[data_d.columns[1:]]\n",
    "# 标准化+整理GTVnd\n",
    "scaler = StandardScaler()\n",
    "scaler.fit(X_d)\n",
    "X_d = scaler.transform(X_d)\n",
    "X_d = pd.DataFrame(X_d)\n",
    "y_d = data_d['label']"
   ]
  },
  {
   "cell_type": "markdown",
   "metadata": {},
   "source": [
    "### Lasso特征筛选"
   ]
  },
  {
   "cell_type": "code",
   "execution_count": null,
   "metadata": {},
   "outputs": [],
   "source": [
    "#lasso特征筛选nx\n",
    "alphas = np.logspace(-4,1,100)\n",
    "model_lassoCV = LassoCV(alphas = alphas, max_iter = 100000).fit(X_x,y_x)\n",
    "coef = pd.Series(model_lassoCV.coef_, index = X_x.columns)\n",
    "index = coef[coef != 0].index\n",
    "X_x_raw = X_x\n",
    "X_x = X_x[index]\n",
    "\n",
    "#lasso图-特征系数随Lambda变化曲线\n",
    "coefs = model_lassoCV.path(X_x_raw,y_x,alphas = alphas, max_iter = 100000)[1].T\n",
    "plt.figure()\n",
    "plt.semilogx(model_lassoCV.alphas_,coefs, '-')\n",
    "plt.axvline(model_lassoCV.alpha_,color = 'black',ls=\"--\")\n",
    "plt.xlabel('Lambda')\n",
    "plt.ylabel('Coefficients')\n",
    "plt.show()"
   ]
  },
  {
   "cell_type": "code",
   "execution_count": null,
   "metadata": {},
   "outputs": [],
   "source": [
    "#lasso特征筛选nd\n",
    "alphas = np.logspace(-4,1,50)\n",
    "model_lassoCV = LassoCV(alphas = alphas, max_iter = 100000).fit(X_d,y_d)\n",
    "coef = pd.Series(model_lassoCV.coef_, index = X_d.columns)\n",
    "index = coef[coef != 0].index\n",
    "X_d_raw = X_d\n",
    "X_d = X_d[index]\n",
    "\n",
    "#LASSO模型中Lambda选值图\n",
    "MSEs = model_lassoCV.mse_path_\n",
    "MSEs_mean, MSEs_std = [], []\n",
    "for i in range(len(MSEs)):\n",
    "    MSEs_mean.append(MSEs[i].mean())\n",
    "    MSEs_std.append(MSEs[i].std())\n",
    "plt.figure()\n",
    "plt.errorbar(model_lassoCV.alphas_,MSEs_mean    \n",
    "             , yerr=MSEs_std                    #y误差范围\n",
    "             , fmt=\"o\"                          #数据点标记\n",
    "             , ms=3                             \n",
    "             , mfc=\"r\"                          \n",
    "             , mec=\"r\"                         \n",
    "             , ecolor=\"lightblue\"               #误差棒设置\n",
    "             , elinewidth=2                    \n",
    "             , capsize=4                        \n",
    "             , capthick=1)                      \n",
    "plt.semilogx()\n",
    "plt.axvline(model_lassoCV.alpha_,color = 'black',ls=\"--\")\n",
    "plt.xlabel('Lambda')\n",
    "plt.ylabel('MSE')\n",
    "plt.show()"
   ]
  },
  {
   "cell_type": "markdown",
   "metadata": {},
   "source": [
    "### 相关性可视化"
   ]
  },
  {
   "cell_type": "code",
   "execution_count": null,
   "metadata": {},
   "outputs": [],
   "source": [
    "#绘制热图\n",
    "plt.figure(figsize=(12,10), dpi= 1200)\n",
    "sns.heatmap(X_d.corr()                         #计算特征间的相关性\n",
    "            , xticklabels=False\n",
    "            , yticklabels=X_d.corr().columns\n",
    "            , cmap='RdYlGn'\n",
    "            , center=0.5\n",
    "            , annot=True)\n",
    "plt.title('Correlogram of features-nd', fontsize=22)\n",
    "plt.xticks(fontsize=12)\n",
    "plt.yticks(fontsize=12)\n",
    "plt.show()"
   ]
  },
  {
   "cell_type": "markdown",
   "metadata": {},
   "source": [
    "### 绘制箱型图"
   ]
  },
  {
   "cell_type": "code",
   "execution_count": null,
   "metadata": {},
   "outputs": [],
   "source": [
    "#箱型图1与2-nd\n",
    "# #绘制箱线图0\n",
    "X_a = X_x[:][X_x['label'] == 0]\n",
    "box_data = np.array(X_a)\n",
    "plt.rcParams['font.sans-serif'] = 'Microsoft YaHei'\n",
    "plt.rcParams['axes.unicode_minus'] = False\n",
    "\n",
    "plt.boxplot(x = box_data, \n",
    " \n",
    "             patch_artist=True, # 自定义颜色填充盒形图\n",
    " \n",
    "             flierprops = {'marker':'o','markerfacecolor':'red','color':'black'}) # 设置异常值属性，点的形状、填充色和边框色\n",
    " \n",
    "plt.xlabel(\"特征索引\")\n",
    "plt.ylabel(\"四分位间距\")\n",
    "plt.title(\"nd-0\")\n",
    "plt.show()\n",
    "# #绘制箱线图1\n",
    "X_b = a[:][a['label'] == 1]\n",
    "box_data = np.array(X_b)\n",
    "plt.rcParams['font.sans-serif'] = 'Microsoft YaHei'\n",
    "plt.rcParams['axes.unicode_minus'] = False\n",
    "\n",
    "plt.boxplot(x = box_data,\n",
    " \n",
    "             patch_artist=True, \n",
    " \n",
    "             flierprops = {'marker':'o','markerfacecolor':'red','color':'black'})\n",
    " \n",
    "plt.xlabel(\"特征索引\")\n",
    "plt.ylabel(\"四分位间距\")\n",
    "plt.title(\"nd-1\")\n",
    "plt.show()"
   ]
  },
  {
   "cell_type": "code",
   "execution_count": null,
   "metadata": {},
   "outputs": [],
   "source": []
  },
  {
   "cell_type": "code",
   "execution_count": null,
   "metadata": {},
   "outputs": [],
   "source": []
  },
  {
   "cell_type": "code",
   "execution_count": null,
   "metadata": {},
   "outputs": [],
   "source": []
  },
  {
   "cell_type": "code",
   "execution_count": null,
   "metadata": {},
   "outputs": [],
   "source": []
  },
  {
   "cell_type": "code",
   "execution_count": null,
   "metadata": {},
   "outputs": [],
   "source": []
  }
 ],
 "metadata": {
  "kernelspec": {
   "display_name": "Python 3",
   "language": "python",
   "name": "python3"
  },
  "language_info": {
   "codemirror_mode": {
    "name": "ipython",
    "version": 3
   },
   "file_extension": ".py",
   "mimetype": "text/x-python",
   "name": "python",
   "nbconvert_exporter": "python",
   "pygments_lexer": "ipython3",
   "version": "3.7.3"
  }
 },
 "nbformat": 4,
 "nbformat_minor": 4
}
